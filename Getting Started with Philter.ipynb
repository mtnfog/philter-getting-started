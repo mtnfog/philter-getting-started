{
 "cells": [
  {
   "cell_type": "markdown",
   "metadata": {},
   "source": [
    "# Getting Started with Philter\n",
    "\n",
    "This notebook provides a guide for getting started with [Philter](https://www.mtnfog.com/products/philter/), an application to identify and manipulate sensitive information, such as PHI and PII, from natural language text.\n",
    "\n",
    "Philter is available through AWS, Azure, and GCP Marketplaces. For on-premises deployments please contact us about Philter Enterprise Edition. The Philter [User's Guide](https://philter.mtnfog.com) details Philter's features and API and open-source Philter SDK projects."
   ]
  },
  {
   "cell_type": "markdown",
   "metadata": {},
   "source": [
    "## Launching Philter\n",
    "\n",
    "To begin, we will launch an instance of Philter. Select a link below based on your cloud provider. If you already have a running instance of Philter you can skip this step and move on down to the more fun stuff.\n",
    "\n",
    "* Launch Philter on AWS - https://aws.amazon.com/marketplace/pp/B07YVB8FFT\n",
    "* Launch Philter on Azure - https://azuremarketplace.microsoft.com/en-us/marketplace/apps/mtnfog.philter\n",
    "* Launch Philter on GCP - https://console.cloud.google.com/marketplace/details/mountainfog-public/philter\n",
    "\n",
    "For all Philter deployment options click [here](https://www.mtnfog.com/products/philter/availability/).\n",
    "\n",
    "Step through the provisioning steps given on the pages linked above. You can also refer to the [Quick Start](https://philter.mtnfog.com/introduction/quick-start) for instructions specific to each cloud provider.\n",
    "\n",
    "Once you have an instance of Philter running in your cloud you can continue on with this notebook.\n",
    "\n",
    "**Be sure that port 8080 is open between this notebook and the Philter instance.**"
   ]
  },
  {
   "cell_type": "markdown",
   "metadata": {},
   "source": [
    "## Creating a Philter Client\n",
    "\n",
    "In this notebook we will use a simple Python client to filter text with Philter. For other languages, we have [SDKs](https://www.mtnfog.com/products/philter/sdks) available for Java, .NET, and Go. These SDKs are designed to make working with the Philter API easy and convenient from your language of choice.  Each of the SDKs are open source under the Apache License, version 2.0.\n",
    "\n",
    "You can also use the [Philter CLI](https://github.com/mtnfog/philter-cli) to filter text from the command line.\n",
    "\n",
    "Once the Philter instance has launched, grab its public IP address or public hostname and set it in the `PhilterIP` value below replacing the `X.X.X.X`."
   ]
  },
  {
   "cell_type": "code",
   "execution_count": null,
   "metadata": {},
   "outputs": [],
   "source": [
    "import requests\n",
    "import json\n",
    "\n",
    "PhilterIP = \"X.X.X.X\""
   ]
  },
  {
   "cell_type": "markdown",
   "metadata": {},
   "source": [
    "## Getting Philter's Status\n",
    "\n",
    "We can execute an API request to get the status of Philter. This status tells us if Philter is ready to serve requests. **Note that Philter may take one to two minutes to initialize after launch.** You can keep retrying the status request until you get an `HTTP 200 OK` response indicating Philter is healthy and ready for requests."
   ]
  },
  {
   "cell_type": "code",
   "execution_count": null,
   "metadata": {},
   "outputs": [],
   "source": [
    "ENDPOINT = \"https://\" + PhilterIP + \":8080/api/status\"\n",
    "r = requests.get(url=URL, verify=False) \n",
    "data = r.json() \n",
    "print(data)"
   ]
  },
  {
   "cell_type": "markdown",
   "metadata": {},
   "source": [
    "You will notice that we disabled verification of Philter's SSL certificate in this command. This is because when Philter is launched from a cloud marketplace it automatically generates a self-signed certificate. The self-signed certificate will cause this command to fail so we ignore it. You should **never** disable certificate validation. We are doing it here just for illustration in this walkthrough. You should use a trusted certificate with Philter.\n",
    "\n",
    "Once the previous API request returns `Healthy`, continue on through the notebook."
   ]
  },
  {
   "cell_type": "markdown",
   "metadata": {},
   "source": [
    "## Finding and Removing Sensitive Information\n",
    "\n",
    "Now that Philter is running and healthy, we can filter some text. Run the following code to send a piece of sample text to Philter and view the output.\n",
    "\n",
    "In this request we are sending a single sentence to Philter to be filtered. Philter will load the requested filter profile and manipulate the input text based on the content of the filter profile. (A [filter profile](https://philter.mtnfog.com/filtering/filter-profiles) defines the types of sensitive information that Philter looks for and how Philter manipulates that sensitive information when it is found.)\n",
    "\n",
    "Since we are not providing the name of a filter profile in the request, Philter will load the `default` filter profile. This filter profile defines many common types of sensitive information and provides a good starting point for modifying the default filter profile to customize it to fit your use-case. "
   ]
  },
  {
   "cell_type": "code",
   "execution_count": null,
   "metadata": {},
   "outputs": [],
   "source": [
    "ENDPOINT = \"https://\" + URL + \":8080/api/filter\"\n",
    "text = \"George Washington lives in 90210 and his SSN was 123-45-6789.\"\n",
    "r = requests.post(url=URL, data=text, headers={'Content-Type': 'text/plain'}, verify=False) \n",
    "filtered = r.text() \n",
    "print(filtered)"
   ]
  },
  {
   "cell_type": "markdown",
   "source": [
    "You should see an output similar to the following:\n",
    "\n",
    "```\n",
    "{{{REDACTED-entity}}} lives in {{{REDACTED-zip-code}}} and his SSN was {{{REDACTED-ssn}}}.\n",
    "```\n",
    "\n",
    "Congrats! You just used Philter to find sensitive information (person name, zip code, and SSN) in text and redact the sensitive information. While this is a simple example, it illustrates the core capabilities of Philter."
   ],
   "metadata": {
    "collapsed": false,
    "pycharm": {
     "name": "#%% md\n"
    }
   }
  }
 ],
 "metadata": {
  "kernelspec": {
   "display_name": "Python 3",
   "language": "python",
   "name": "python3"
  },
  "language_info": {
   "codemirror_mode": {
    "name": "ipython",
    "version": 3
   },
   "file_extension": ".py",
   "mimetype": "text/x-python",
   "name": "python",
   "nbconvert_exporter": "python",
   "pygments_lexer": "ipython3",
   "version": "3.6.8"
  },
  "pycharm": {
   "stem_cell": {
    "cell_type": "raw",
    "source": [],
    "metadata": {
     "collapsed": false
    }
   }
  }
 },
 "nbformat": 4,
 "nbformat_minor": 2
}