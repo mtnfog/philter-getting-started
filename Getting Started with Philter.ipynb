{
 "cells": [
  {
   "cell_type": "markdown",
   "metadata": {},
   "source": [
    "# Getting Started with Philter\n",
    "\n",
    "This notebook provides a guide for getting started with [Philter](https://www.mtnfog.com/products/philter/), an application to find and remove PII and PHI from natural language text.\n",
    "\n",
    "Philter is available throught AWS, Azure, and GCP Marketplaces. "
   ]
  },
  {
   "cell_type": "markdown",
   "metadata": {},
   "source": [
    "## Launching Philter\n",
    "\n",
    "To begin, we will launch an instance of Philter. Select a link below based on your cloud provider.\n",
    "\n",
    "* Launch Philter on AWS - https://aws.amazon.com/marketplace/pp/B07YVB8FFT\n",
    "* Launch Philter on Azure - https://azuremarketplace.microsoft.com/en-us/marketplace/apps/mtnfog.philter\n",
    "* Launch Philter on GCP - https://console.cloud.google.com/marketplace/details/mountainfog-public/philter\n",
    "\n",
    "Step through the provisioning steps given on the links above. Once you have an instance of Philter running in your cloud you can continue on with this notebook."
   ]
  },
  {
   "cell_type": "markdown",
   "metadata": {},
   "source": [
    "## Initializing a Philter Client\n",
    "\n",
    "Once the Philter instance has launched, get it's public IP address and set it in the `URL` value below replacing the `X.X.X.X`."
   ]
  },
  {
   "cell_type": "code",
   "execution_count": null,
   "metadata": {},
   "outputs": [],
   "source": [
    "import requests\n",
    "import json\n",
    "\n",
    "PhilterIP = \"X.X.X.X\""
   ]
  },
  {
   "cell_type": "markdown",
   "metadata": {},
   "source": [
    "## Getting Philter's Status\n",
    "\n",
    "We can execute an API command to get the status of Philter. This status tells us if Philter is ready to serve requests."
   ]
  },
  {
   "cell_type": "code",
   "execution_count": null,
   "metadata": {},
   "outputs": [],
   "source": [
    "ENDPOINT = \"https://\" + URL + \":8080/api/status\"\n",
    "r = requests.get(url=URL, verify=False) \n",
    "data = r.json() \n",
    "print(data)"
   ]
  },
  {
   "cell_type": "markdown",
   "metadata": {},
   "source": [
    "This will show us Philter's status of either `Healthy` or `Unhealthy`. Philter's status may be `Unhealth` when initializing. Philter can take a couple of minutes to fully initialize. Once the previous API request returns `Healthy`, continue on through the notebook."
   ]
  },
  {
   "cell_type": "markdown",
   "metadata": {},
   "source": [
    "## Finding and Removing PII and PHI\n",
    "\n",
    "Run the following code to send a piece of sample text to Philter and view the output."
   ]
  },
  {
   "cell_type": "code",
   "execution_count": null,
   "metadata": {},
   "outputs": [],
   "source": [
    "ENDPOINT = \"https://\" + URL + \":8080/api/filter\"\n",
    "text = \"George Washington lives in 90219 and his SSN was 123-45-6789.\"\n",
    "r = requests.post(url=URL, data=text, headers={'Content-Type': 'application/json'}, verify=False) \n",
    "filtered = r.text() \n",
    "print(filtered)"
   ]
  }
 ],
 "metadata": {
  "kernelspec": {
   "display_name": "Python 3",
   "language": "python",
   "name": "python3"
  },
  "language_info": {
   "codemirror_mode": {
    "name": "ipython",
    "version": 3
   },
   "file_extension": ".py",
   "mimetype": "text/x-python",
   "name": "python",
   "nbconvert_exporter": "python",
   "pygments_lexer": "ipython3",
   "version": "3.6.8"
  }
 },
 "nbformat": 4,
 "nbformat_minor": 2
}
